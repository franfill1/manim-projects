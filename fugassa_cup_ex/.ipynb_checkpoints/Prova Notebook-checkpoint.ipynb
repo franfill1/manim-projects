{
 "cells": [
  {
   "cell_type": "code",
   "execution_count": 157,
   "id": "e0902a64",
   "metadata": {},
   "outputs": [],
   "source": [
    "from manim import *\n",
    "from manim_editor import PresentationSectionType\n",
    "from math import *\n",
    "import numpy as np\n",
    "param = \"-qm -v WARNING \""
   ]
  },
  {
   "cell_type": "code",
   "execution_count": 342,
   "id": "740dd259",
   "metadata": {},
   "outputs": [
    {
     "name": "stderr",
     "output_type": "stream",
     "text": [
      "                                                                                                                                                                                                                 \r"
     ]
    },
    {
     "data": {
      "text/html": [
       "<video src=\"media/jupyter/sensore@2021-11-23@00-19-21.mp4\" controls autoplay loop style=\"max-width: 60%;\"  >\n",
       "      Your browser does not support the <code>video</code> element.\n",
       "    </video>"
      ],
      "text/plain": [
       "<IPython.core.display.Video object>"
      ]
     },
     "metadata": {},
     "output_type": "display_data"
    }
   ],
   "source": [
    "%%manim $param -s sensore\n",
    "\n",
    "def getAngle(A, B, C):\n",
    "    return acos((A-B)*(C-B))\n",
    "\n",
    "def get_dist(A, B):\n",
    "    dx = A[0]-B[0]\n",
    "    dy = A[1]-B[1]\n",
    "    return sqrt(dx**2 + dy**2)\n",
    "\n",
    "def get_intersection(p0, p1, q0, q1):\n",
    "    a = np.transpose(np.array([p0-p1, q1-q0, [1, 1, 1]]))\n",
    "    b = q1-p1\n",
    "    i = np.linalg.solve(a, b)\n",
    "    s = i[1]\n",
    "    return p0*s + p1*(1-s)\n",
    "    \n",
    "    \n",
    "class sensore(Scene):\n",
    "    def construct(self):\n",
    "        \n",
    "        textScale = 0.8\n",
    "        \n",
    "        A = np.array([-3, -2.75, 0])\n",
    "        B = np.array([4, -2.75, 0])\n",
    "        C = np.array([-2, 3.25, 0])\n",
    "        X = ((B-C)*get_dist(A,C)/get_dist(B,C) + C)\n",
    "        Y = ((C-B)*get_dist(A,B)/get_dist(B,C) + B)\n",
    "        M = (A+X)/2\n",
    "        N = (A+Y)/2\n",
    "        V = get_intersection(B, N, C, M)\n",
    "        \n",
    "        ####Triangolo####\n",
    "        #Vertici\n",
    "        pA = Dot().move_to(A)\n",
    "        lA = MathTex(\"A\").scale(textScale).next_to(A, DOWN+LEFT)\n",
    "        pB = Dot().move_to(B)\n",
    "        lB = MathTex(\"B\").scale(textScale).next_to(B, DOWN+RIGHT)\n",
    "        pC = Dot().move_to(C)\n",
    "        lC = MathTex(\"C\").scale(textScale).next_to(C, UP+LEFT)\n",
    "      \n",
    "        #Lati\n",
    "        AB = Line(pA, pB).set_stroke(color=BLUE)\n",
    "        BC = Line(pB, pC).set_stroke(color=BLUE)\n",
    "        CA = Line(pC, pA).set_stroke(color=BLUE)\n",
    "        \n",
    "        #Angoli\n",
    "        alpha = Angle(AB,Line(A, C))\n",
    "        gamma = Angle(CA,Line(C, B))\n",
    "        beta = Angle(BC,Line(B, A))\n",
    "        \n",
    "        sides = VGroup(AB, BC, CA)\n",
    "        vertices = VGroup(pA, pB, pC)\n",
    "        vlabels = VGroup(lA, lB, lC)\n",
    "\n",
    "        self.play(Create(vertices))\n",
    "        self.play(Write(vlabels))\n",
    "        self.play(Create(sides))\n",
    "        \n",
    "        #### X e Y ####\n",
    "        pX = Dot().move_to(X)\n",
    "        lX = MathTex(\"X\").scale(textScale).next_to(X, UP+RIGHT)\n",
    "        pY = Dot().move_to(Y)\n",
    "        lY = MathTex(\"Y\").scale(textScale).next_to(Y, UP+RIGHT)\n",
    "\n",
    "        temp = VGroup(CA.copy(), pA.copy())\n",
    "        self.play(Rotate(temp, gamma.get_value(), about_point=C))\n",
    "        self.remove(temp)\n",
    "        self.add(pX)\n",
    "        self.play(Write(lX))\n",
    "        \n",
    "        temp = VGroup(AB.copy().set_z_index(-1), pA.copy())\n",
    "        self.play(Rotate(temp, -beta.get_value(), about_point=B))\n",
    "        self.remove(temp)\n",
    "        self.add(pY)\n",
    "        self.play(Write(lY))\n",
    "                \n",
    "        #### AX e AY ####\n",
    "        AX = Line(A, X)\n",
    "        AY = Line(A, Y)\n",
    "        self.play(Create(AX), Create(AY))\n",
    "        \n",
    "        #### BN e CM ####\n",
    "        pM = Dot().move_to(M)\n",
    "        lM = MathTex(\"M\").scale(textScale).next_to(M, DOWN+RIGHT)\n",
    "        pN = Dot().move_to(N)\n",
    "        lN = MathTex(\"N\").scale(textScale).next_to(N, UP+LEFT)\n",
    "        \n",
    "        BN = Line(B, N)\n",
    "        CM = Line(C, M)\n",
    "        \n",
    "        self.play(Create(pN), Create(pM))\n",
    "        self.play(Write(lM), Write(lN))\n",
    "        self.play(Create(BN), Create(CM))\n",
    "        \n",
    "        #### V e AVM ####\n",
    "        pV = Dot().move_to(V)\n",
    "        lV = MathTex(\"V\").scale(textScale).next_to(pV, UP+RIGHT, buff=0.1)\n",
    "        AV = Line(A, V).set_stroke(color=RED).set_z_index(-1)\n",
    "        AVM = Angle(Line(V, A), Line(V, M)).set_stroke(color=ORANGE)\n",
    "        \n",
    "        texAVM = MathTex(r\"\\angle \", \"A\", \"V\", \"M\", r\" =\\ ?\").set_color(ORANGE).shift(RIGHT*5)\n",
    "\n",
    "        self.play(Create(pV))\n",
    "        self.play(Write(lV))\n",
    "        self.play(Create(AV))\n",
    "        self.play(Create(AVM))      \n",
    "        self.play(lA.copy().animate.become(texAVM[1]), lV.copy().animate.become(texAVM[2]), lM.copy().animate.become(texAVM[3]))\n",
    "        self.play(Write(texAVM[0]), Write(texAVM[-1]))\n",
    "        \n",
    "        #### ABC ####\n",
    "        ABC = Angle(Line(B,C), Line(B,A), radius=0.6).set_stroke(color=GREEN)\n",
    "        self.play(Create(ABC))\n",
    "        \n",
    "        texABC = MathTex(r\"\\angle \", \"A\", \"B\", \"C\", r\" =\\ 64°\").set_color(GREEN).shift(RIGHT*5+UP*4)\n",
    "        self.play(lA.copy().animate.become(texABC[1]), lB.copy().animate.become(texABC[2]), lC.copy().animate.become(texABC[3]))\n",
    "        \n",
    "        #### ANGOLI RETTI ####\n",
    "        BNY = RightAngle(Line(N, B), Line(N, Y), length=0.25)\n",
    "        CMX = RightAngle(Line(M, C), Line(M, X), length=0.25)\n",
    "        \n",
    "        self.play(Create(BNY))\n",
    "        self.play(Create(CMX))\n",
    "        \n",
    "        #### BAY e AYB ####\n",
    "        BAY = Angle(Line(A, B), Line(A, Y)).set_stroke(color=PURPLE)\n",
    "        AYB = Angle(Line(Y, A), Line(Y, B)).set_stroke(color=PURPLE)\n",
    "        self.play(Create(BAY), Create(AYB))\n",
    "            \n",
    "        #### circle ####\n",
    "        circle = Circle(get_dist(V, A)).move_to(V).set_z_index(-1)\n",
    "        self.play(Create(circle))    \n",
    "              \n",
    "        #### XV  e AVX ####\n",
    "        XV = Line(X, V).set_stroke(color=RED).set_z_index(-1)\n",
    "        AVX = Angle(Line(V, A), Line(V, X), radius=0.5).set_stroke(color=ORANGE)\n",
    "        self.play(Create(XV))\n",
    "        self.play(Create(AVX))\n",
    "\n",
    "                \n",
    "        self.wait()\n"
   ]
  },
  {
   "cell_type": "code",
   "execution_count": 202,
   "id": "f7502fb5",
   "metadata": {},
   "outputs": [
    {
     "name": "stdout",
     "output_type": "stream",
     "text": [
      "[1]\n"
     ]
    }
   ],
   "source": [
    "a = np.array([1, 2])\n",
    "a.resize(1)\n",
    "print(a)"
   ]
  },
  {
   "cell_type": "code",
   "execution_count": 77,
   "id": "2911cf5c",
   "metadata": {
    "collapsed": true
   },
   "outputs": [
    {
     "name": "stderr",
     "output_type": "stream",
     "text": [
      "                                                                                                                                                                                                                 \r"
     ]
    },
    {
     "data": {
      "text/html": [
       "<video src=\"media/jupyter/scena@2021-11-22@10-35-46.mp4\" controls autoplay loop style=\"max-width: 60%;\"  >\n",
       "      Your browser does not support the <code>video</code> element.\n",
       "    </video>"
      ],
      "text/plain": [
       "<IPython.core.display.Video object>"
      ]
     },
     "metadata": {},
     "output_type": "display_data"
    }
   ],
   "source": [
    "%%manim $param scena\n",
    "\n",
    "class scena(Scene):\n",
    "    def construct(self):\n",
    "        axes = Axes(x_range=[-1, 10], y_range = [-1, 5])\n",
    "        self.play(Write(axes), run_time=0.5)\n",
    "        g = lambda x : x\n",
    "        f = lambda x : 1/x\n",
    "        gplot = axes.plot(g, x_range=[0.001, 10], use_smoothing=False).set_stroke(color=BLUE)\n",
    "        fplot = axes.plot(f, x_range=[0.001, 10], use_smoothing=False).set_stroke(color=GREEN)\n",
    "        \n",
    "        point = Dot()\n",
    "        \n",
    "        def myf(x, y):\n",
    "            if (x == 1 or y == 1):\n",
    "                return 0\n",
    "            return log(y)/log(x) - log(x)/log(y)\n",
    "\n",
    "        xTr = ValueTracker(1)\n",
    "        yTr = ValueTracker(1)\n",
    "        \n",
    "        point.add_updater(lambda x: x.move_to(axes.coords_to_point(xTr.get_value(), yTr.get_value())))\n",
    "        \n",
    "        \n",
    "        text = always_redraw(lambda : Text(\"%.2f\"%myf(xTr.get_value(), yTr.get_value())).move_to(UP*3.5 + RIGHT*4))\n",
    "        self.play(Create(gplot), Create(fplot))\n",
    "        self.add(xTr, yTr)\n",
    "        self.play(Create(point), run_time=0.3)\n",
    "        self.play(Write(text), run_time=0.3)\n",
    "        self.play(xTr.animate.set_value(2), yTr.animate.set_value(1.5))\n",
    "        self.play(xTr.animate.set_value(3), yTr.animate.set_value(4))\n",
    "        \n",
    "        self.wait(2)"
   ]
  },
  {
   "cell_type": "code",
   "execution_count": 8,
   "id": "c4f55dd8",
   "metadata": {
    "collapsed": true
   },
   "outputs": [
    {
     "name": "stderr",
     "output_type": "stream",
     "text": [
      "                                                                                                                                                                                                                 \r"
     ]
    },
    {
     "data": {
      "text/html": [
       "<video src=\"media/jupyter/Example@2021-11-22@08-55-04.mp4\" controls autoplay loop style=\"max-width: 60%;\"  >\n",
       "      Your browser does not support the <code>video</code> element.\n",
       "    </video>"
      ],
      "text/plain": [
       "<IPython.core.display.Video object>"
      ]
     },
     "metadata": {},
     "output_type": "display_data"
    }
   ],
   "source": [
    "%%manim $param Example\n",
    "\n",
    "class Example(Scene):\n",
    "    def construct(self):\n",
    "        count = 8\n",
    "        step = PI/count\n",
    "        gl = ValueTracker(0)\n",
    "        points = VGroup(*[Dot().set(an = step*i) for i in range(count)])\n",
    "        \n",
    "        r = 2\n",
    "        linebase = Line(start=[-r,0,0], end=[r,0,0]).set_stroke(width=1)\n",
    "        lines = VGroup(*[linebase.copy().rotate(step*i, about_point=[0,0,0]) for i in range(count)])\n",
    "        \n",
    "        bigCircle = Circle(2)\n",
    "        \n",
    "        def point_updater(u):\n",
    "            val = math.sin((gl.get_value() - u.an)%TAU);\n",
    "            u.move_to([val*math.cos(u.an)*r, val*math.sin(u.an)*r, 0])\n",
    "        \n",
    "        for point in points:\n",
    "            point.add_updater(point_updater)\n",
    "            \n",
    "        gl.add_updater(lambda x, dt : x.set_value(x.get_value() + dt*PI))\n",
    "        \n",
    "        self.next_section(\"Intro\", PresentationSectionType.SKIP)\n",
    "        self.play(Create(points))\n",
    "        points.set_z_index(1)\n",
    "        self.play(Create(bigCircle))\n",
    "        self.next_section(\"First Loop\", PresentationSectionType.COMPLETE_LOOP)\n",
    "        self.add(gl)\n",
    "        self.wait(2)\n",
    "        self.next_section(\"Skip\", PresentationSectionType.SKIP)\n",
    "        self.play(*[Write(line) for line in lines])\n",
    "        self.wait(1)\n",
    "        self.next_section(\"Final Loop\", PresentationSectionType.LOOP)\n",
    "        self.wait(2)\n"
   ]
  }
 ],
 "metadata": {
  "kernelspec": {
   "display_name": "Python 3 (ipykernel)",
   "language": "python",
   "name": "python3"
  },
  "language_info": {
   "codemirror_mode": {
    "name": "ipython",
    "version": 3
   },
   "file_extension": ".py",
   "mimetype": "text/x-python",
   "name": "python",
   "nbconvert_exporter": "python",
   "pygments_lexer": "ipython3",
   "version": "3.9.7"
  }
 },
 "nbformat": 4,
 "nbformat_minor": 5
}
